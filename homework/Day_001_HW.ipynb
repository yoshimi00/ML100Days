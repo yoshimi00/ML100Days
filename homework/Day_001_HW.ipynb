#作業1
import numpy as np
import matplotlib.pyplot as plt
w = 3
b = 0.5

x_lin = np.linspace(0,100,101) #np.linspance(頭,尾,劃分) 轉為陣列
y = (x_lin + np.random.randn(101)) *w +b #np.random.randn(取樣次數) 隨機傳回常態分配的取樣值

y_hat = x_lin *w +b

plt.plot(x_lin,y,'b.',label='data points') # X軸 Y軸 b.是藍點也是最小單位的形狀
plt.title('Assume we have data points')
plt.legend(loc=2) #loc=2 左上角 
plt.show()

plt.plot(x_lin,y,'b.',label='data points') # X軸 Y軸 b.是藍點也是最小單位的形狀
plt.plot(x_lin,y_hat,'r-.',label='prediction') 
plt.legend(loc=2) #loc=2 左上角 
plt.show()

def mean_squared_error(y,yp):
    mae = MAE = sum((y-yp)**2) / len(y)
    return mae

MAE = mean_squared_error(y,y_hat)
print('mean suqared error is %3.f' %(MAE))

#作業2
""""
你選的這組資料為何重要
    影響政策→計程車載客優化
資料從何而來 (tips: 譬如提供者是誰、以什麼方式蒐集)
    NYC Taxi&Limousine Commission
蒐集而來的資料型態為何
    結構化:載客總人數
    非結構化:時間
這組資料想解決的問題如何評估
    用MSE預測在某個時間點的乘客數，調整計程車數
"""
#作業3
""""
想像你經營一個自由載客車隊，你希望能透過數據分析以提升業績，請你思考並描述你如何規劃整體的分析/解決方案：

核心問題為何 (tips：如何定義 「提升業績 & 你的假設」)
    提升業績:乘客數量
    假設在特定時段欲車人數特別多
資料從何而來 (tips：哪些資料可能會對你想問的問題產生影響 & 資料如何蒐集)
    時間、乘客數對於問題可能會產生影響
    資料以司機在載客時計入時間及乘客數累積
蒐集而來的資料型態為何
    結構化:載客總人數
    非結構化:時間
你要回答的問題，其如何評估 (tips：你的假設如何驗證)
    用MSE預測在熱門時間點的乘客數，選擇在熱門時間點去載客驗證業績是否上升
"""""