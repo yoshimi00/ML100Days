{
 "cells": [
  {
   "cell_type": "code",
   "execution_count": null,
   "id": "a3b3814d",
   "metadata": {},
   "outputs": [],
   "source": [
    "[作業重點]\n",
    "透過觀察頂尖公司的機器學習文章，來了解各公司是怎麼應用機器學習在實際的專案上\n",
    "\n",
    "[作業]\n",
    "今天的作業希望大家能夠看看全球機器學習巨頭們在做的機器學習專案。\n",
    "以 google 為例，下圖是 Google 內部專案使用機器學習的數量，隨著時間進展，現在早已超過 2000 個專案在使用機器學習。"
   ]
  },
  {
   "cell_type": "code",
   "execution_count": null,
   "id": "dddf5418",
   "metadata": {},
   "outputs": [],
   "source": [
    "專案的目標？ (要解決什麼問題）\n",
    "第一 能用此模型預測未知的味道\n",
    "第二 能將味道的品質與基礎生物學結合\n",
    "第三 應用在未來地球的健康挑戰"
   ]
  },
  {
   "cell_type": "code",
   "execution_count": null,
   "id": "9b4bfd3c",
   "metadata": {},
   "outputs": [],
   "source": [
    "使用的技術是？ (只需知道名稱即可，例如：使用 CNN 卷積神經網路做影像分類)\n",
    "使用GNN 圖神經網路做味道識別"
   ]
  },
  {
   "cell_type": "code",
   "execution_count": null,
   "id": "59c729bc",
   "metadata": {},
   "outputs": [],
   "source": [
    "資料來源？\n",
    "https://ai.googleblog.com/2022/09/digitizing-smell-using-molecular-maps.html"
   ]
  }
 ],
 "metadata": {
  "kernelspec": {
   "display_name": "Python 3 (ipykernel)",
   "language": "python",
   "name": "python3"
  },
  "language_info": {
   "codemirror_mode": {
    "name": "ipython",
    "version": 3
   },
   "file_extension": ".py",
   "mimetype": "text/x-python",
   "name": "python",
   "nbconvert_exporter": "python",
   "pygments_lexer": "ipython3",
   "version": "3.9.12"
  }
 },
 "nbformat": 4,
 "nbformat_minor": 5
}
