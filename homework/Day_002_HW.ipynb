{
 "cells": [
  {
   "cell_type": "code",
   "execution_count": null,
   "id": "b856396f",
   "metadata": {},
   "outputs": [],
   "source": [
    "了解機器學習適合應用的領域與範疇。\n",
    "透過瞭解機器學習的運作方式，找出非常適用機器學習應用的領域及其原因"
   ]
  },
  {
   "cell_type": "code",
   "execution_count": null,
   "id": "e5e6d634",
   "metadata": {},
   "outputs": [],
   "source": [
    "請找出一個你認為機器學習可以發光發熱的領域並闡述原因?"
   ]
  },
  {
   "cell_type": "code",
   "execution_count": null,
   "id": "1d7fe722",
   "metadata": {},
   "outputs": [],
   "source": [
    "我認為機器學習可以應用在醫療領域上\n",
    "第一、對於病者的症狀診斷的處理複雜\n",
    "第二、醫療資源也面對資源分配不足的問題，需要擴大規模服務偏遠地區的病者\n",
    "第三、每位病者的症狀不同，也導致每位的需求不同，因此需要客製化\n",
    "最後，疾病會因為時間有不同的變化或演進亦或是突然出現的疾病，需要與時俱進才能解決。"
   ]
  }
 ],
 "metadata": {
  "kernelspec": {
   "display_name": "Python 3 (ipykernel)",
   "language": "python",
   "name": "python3"
  },
  "language_info": {
   "codemirror_mode": {
    "name": "ipython",
    "version": 3
   },
   "file_extension": ".py",
   "mimetype": "text/x-python",
   "name": "python",
   "nbconvert_exporter": "python",
   "pygments_lexer": "ipython3",
   "version": "3.9.12"
  }
 },
 "nbformat": 4,
 "nbformat_minor": 5
}
