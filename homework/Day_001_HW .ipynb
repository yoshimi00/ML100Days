{
 "cells": [
  {
   "cell_type": "code",
   "execution_count": null,
   "id": "085957ea",
   "metadata": {},
   "outputs": [],
   "source": [
    "#作業1"
   ]
  },
  {
   "cell_type": "code",
   "execution_count": null,
   "id": "7c5559e6",
   "metadata": {},
   "outputs": [],
   "source": [
    "import numpy as np\n",
    "import matplotlib.pyplot as plt"
   ]
  },
  {
   "cell_type": "code",
   "execution_count": null,
   "id": "53e8dcdb",
   "metadata": {},
   "outputs": [],
   "source": [
    "w = 3\n",
    "b = 0.5"
   ]
  },
  {
   "cell_type": "code",
   "execution_count": null,
   "id": "8776ae1d",
   "metadata": {},
   "outputs": [],
   "source": [
    "x_lin = np.linspace(0,100,101) #np.linspance(頭,尾,劃分) 轉為陣列\n",
    "y = (x_lin + np.random.randn(101)) *w +b #np.random.randn(取樣次數) 隨機傳回常態分配的取樣值"
   ]
  },
  {
   "cell_type": "code",
   "execution_count": null,
   "id": "440b140c",
   "metadata": {},
   "outputs": [],
   "source": [
    "y_hat = x_lin *w +b"
   ]
  },
  {
   "cell_type": "code",
   "execution_count": null,
   "id": "23007897",
   "metadata": {},
   "outputs": [],
   "source": [
    "plt.plot(x_lin,y,'b.',label='data points') # X軸 Y軸 b.是藍點也是最小單位的形狀\n",
    "plt.title('Assume we have data points')\n",
    "plt.legend(loc=2) #loc=2 左上角 \n",
    "plt.show()"
   ]
  },
  {
   "cell_type": "code",
   "execution_count": null,
   "id": "b7b09044",
   "metadata": {},
   "outputs": [],
   "source": [
    "plt.plot(x_lin,y,'b.',label='data points') # X軸 Y軸 b.是藍點也是最小單位的形狀\n",
    "plt.plot(x_lin,y_hat,'r-.',label='prediction') \n",
    "plt.legend(loc=2) #loc=2 左上角 \n",
    "plt.show()"
   ]
  },
  {
   "cell_type": "code",
   "execution_count": null,
   "id": "31728d30",
   "metadata": {},
   "outputs": [],
   "source": [
    "def mean_squared_error(y,yp):\n",
    "    mae = MAE = sum((y-yp)**2) / len(y)\n",
    "    return mae"
   ]
  },
  {
   "cell_type": "code",
   "execution_count": null,
   "id": "1d5d3f89",
   "metadata": {},
   "outputs": [],
   "source": [
    "MAE = mean_squared_error(y,y_hat)\n",
    "print('mean suqared error is %3.f' %(MAE))"
   ]
  },
  {
   "cell_type": "code",
   "execution_count": null,
   "id": "8544b071",
   "metadata": {},
   "outputs": [],
   "source": [
    "#作業2"
   ]
  },
  {
   "cell_type": "code",
   "execution_count": null,
   "id": "1db30520",
   "metadata": {},
   "outputs": [],
   "source": [
    "你選的這組資料為何重要\n",
    "    影響政策→計程車載客優化"
   ]
  },
  {
   "cell_type": "code",
   "execution_count": null,
   "id": "758bd451",
   "metadata": {},
   "outputs": [],
   "source": [
    "資料從何而來 (tips: 譬如提供者是誰、以什麼方式蒐集)\n",
    "    NYC Taxi&Limousine Commission"
   ]
  },
  {
   "cell_type": "code",
   "execution_count": null,
   "id": "370bbe8f",
   "metadata": {},
   "outputs": [],
   "source": [
    "蒐集而來的資料型態為何\n",
    "    結構化:載客總人數\n",
    "    非結構化:時間"
   ]
  },
  {
   "cell_type": "code",
   "execution_count": null,
   "id": "37e5064f",
   "metadata": {},
   "outputs": [],
   "source": [
    "這組資料想解決的問題如何評估\n",
    "    用MSE預測在某個時間點的乘客數，調整計程車數"
   ]
  },
  {
   "cell_type": "code",
   "execution_count": null,
   "id": "6d8666c9",
   "metadata": {},
   "outputs": [],
   "source": [
    "#作業3"
   ]
  },
  {
   "cell_type": "code",
   "execution_count": null,
   "id": "16069eab",
   "metadata": {},
   "outputs": [],
   "source": [
    "想像你經營一個自由載客車隊，你希望能透過數據分析以提升業績，請你思考並描述你如何規劃整體的分析/解決方案："
   ]
  },
  {
   "cell_type": "code",
   "execution_count": null,
   "id": "ce5b448e",
   "metadata": {},
   "outputs": [],
   "source": [
    "核心問題為何 (tips：如何定義 「提升業績 & 你的假設」)\n",
    "    提升業績:乘客數量\n",
    "    假設在特定時段欲車人數特別多"
   ]
  },
  {
   "cell_type": "code",
   "execution_count": null,
   "id": "38e83fab",
   "metadata": {},
   "outputs": [],
   "source": [
    "資料從何而來 (tips：哪些資料可能會對你想問的問題產生影響 & 資料如何蒐集)\n",
    "    時間、乘客數對於問題可能會產生影響\n",
    "    資料以司機在載客時計入時間及乘客數累積"
   ]
  },
  {
   "cell_type": "code",
   "execution_count": null,
   "id": "a1601ce3",
   "metadata": {},
   "outputs": [],
   "source": [
    "蒐集而來的資料型態為何\n",
    "    結構化:載客總人數\n",
    "    非結構化:時間"
   ]
  },
  {
   "cell_type": "code",
   "execution_count": null,
   "id": "6b1f209b",
   "metadata": {},
   "outputs": [],
   "source": [
    "你要回答的問題，其如何評估 (tips：你的假設如何驗證)\n",
    "    用MSE預測在熱門時間點的乘客數，選擇在熱門時間點去載客驗證業績是否上升"
   ]
  }
 ],
 "metadata": {
  "kernelspec": {
   "display_name": "Python 3 (ipykernel)",
   "language": "python",
   "name": "python3"
  },
  "language_info": {
   "codemirror_mode": {
    "name": "ipython",
    "version": 3
   },
   "file_extension": ".py",
   "mimetype": "text/x-python",
   "name": "python",
   "nbconvert_exporter": "python",
   "pygments_lexer": "ipython3",
   "version": "3.9.12"
  }
 },
 "nbformat": 4,
 "nbformat_minor": 5
}
